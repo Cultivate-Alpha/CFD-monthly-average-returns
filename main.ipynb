{
  "cells": [
    {
      "cell_type": "code",
      "metadata": {
        "jukit_cell_id": "Hih70KeS0g"
      },
      "source": [
        "import requests\n",
        "from bs4 import BeautifulSoup\n",
        "import matplotlib.pyplot as plt\n",
        "import pandas as pd\n",
        "\n",
        "# Define the strategy page URL\n",
        "url = \"https://www.myfxbook.com/strategies/copysignals/337097\""
      ],
      "outputs": [],
      "execution_count": null
    },
    {
      "cell_type": "code",
      "metadata": {
        "jukit_cell_id": "Ow9vaCEMCP"
      },
      "source": [
        "def get_monthly(url):\n",
        "    # Send a GET request to the strategy page URL\n",
        "    response = requests.get(url)\n",
        "\n",
        "    # Parse the HTML content of the page using BeautifulSoup\n",
        "    soup = BeautifulSoup(response.content, \"html.parser\")\n",
        "\n",
        "    # Find the \"table-scrollable-borderless\" element\n",
        "    table_element = soup.find(\"div\", class_=\"table-scrollable-borderless\")\n",
        "\n",
        "    # Get the second child element of the \"table-scrollable-borderless\" element\n",
        "    # print(table_element)\n",
        "    # second_child = table_element.contents[1]\n",
        "    #\n",
        "    # # Print the contents of the second child element\n",
        "    # print(second_child)\n",
        "    # Find the \"Monthly\" span element within the \"table-scrollable-borderless\" element\n",
        "    monthly_span = table_element.find(\n",
        "        \"span\", string=lambda text: \"monthly\" in text.lower()\n",
        "    )\n",
        "\n",
        "    # Get the table cell element next to the \"Monthly\" span element\n",
        "    monthly_td = monthly_span.find_next(\"td\")\n",
        "\n",
        "    # Print the text content of the monthly return value cell\n",
        "    ret = monthly_td.text.split(\"%\")[0]\n",
        "    print(ret)\n",
        "    return ret\n",
        "\n",
        "\n",
        "def get_strategies(url):\n",
        "    # Send a GET request to the strategy page URL\n",
        "    response = requests.get(url)\n",
        "\n",
        "    # Parse the HTML content of the page using BeautifulSoup\n",
        "    soup = BeautifulSoup(response.content, \"html.parser\")\n",
        "\n",
        "    td_list = soup.find_all(\"td\", class_=\"break-word min-width-100 width-30-percentage\")\n",
        "\n",
        "    # Print the href attribute value of each table cell element\n",
        "    items = []\n",
        "    for td in td_list:\n",
        "        href = td.a.get(\"href\")\n",
        "        items.append(href)\n",
        "    return items"
      ],
      "outputs": [],
      "execution_count": null
    },
    {
      "cell_type": "code",
      "metadata": {
        "jukit_cell_id": "aa3kUuxjO4"
      },
      "source": [
        "class Fetcher:\n",
        "    def get_strategies(self):\n",
        "        url = \"https://www.myfxbook.com/strategies/all-strategies\"\n",
        "        lists = []\n",
        "        lists.append(get_strategies(url))\n",
        "        for page in range(1, 10):\n",
        "            url = f\"https://www.myfxbook.com/strategies/all-strategies/{page}\"\n",
        "            lists.append(get_strategies(url))\n",
        "\n",
        "        strategies = []\n",
        "        # Loop over each sublist in the input list and add its items to the target list\n",
        "        for sublist in lists:\n",
        "            strategies.extend(sublist)\n",
        "        print(strategies)\n",
        "        print(len(strategies))\n",
        "        self.strategies = strategies\n",
        "\n",
        "    def get_monthly(self):\n",
        "        df = pd.Series()\n",
        "        for strategy in self.strategies:\n",
        "            df = pd.concat([df, pd.Series([get_monthly(strategy)])])\n",
        "        print(df)\n",
        "        df.to_csv(\"monthly.csv\")\n",
        "\n",
        "    def get_stats(self):\n",
        "        df = pd.read_csv(\"monthly.csv\")\n",
        "        df.drop(df.columns[0], axis=1, inplace=True)\n",
        "        df = df[df[\"0\"] < 100]\n",
        "        return df\n",
        "\n",
        "    def print_stats(self):\n",
        "        df = self.get_stats()\n",
        "\n",
        "        print(\"The mean return is: \", df.mean()[0])\n",
        "        print(\"The median return is: \", df.median()[0])\n",
        "        return df\n",
        "\n",
        "    def plot_stats(self):\n",
        "        df = self.get_stats()\n",
        "        df.plot.hist(bins=100)\n",
        "        plt.show()"
      ],
      "outputs": [],
      "execution_count": null
    },
    {
      "cell_type": "code",
      "metadata": {
        "jukit_cell_id": "OfGt6R376F"
      },
      "source": [
        "fetcher = Fetcher()\n",
        "fetcher.get_strategies()\n",
        "fetcher.get_monthly()"
      ],
      "outputs": [],
      "execution_count": null
    },
    {
      "cell_type": "code",
      "metadata": {
        "jukit_cell_id": "LHazr2oHjn"
      },
      "source": [
        "fetcher = Fetcher()\n",
        "df = fetcher.print_stats()\n",
        "\n",
        "fetcher.plot_stats()"
      ],
      "outputs": [
        {
          "output_type": "stream",
          "name": "stdout",
          "text": "The mean return is:  10.081034482758621\nThe median return is:  3.865\n"
        },
        {
          "data": {
            "image/png": "[encoded data removed]"
          },
          "metadata": {},
          "output_type": "display_data"
        },
        {
          "output_type": "stream",
          "name": "stdout",
          "text": "\n"
        }
      ],
      "execution_count": 1
    }
  ],
  "metadata": {
    "anaconda-cloud": {},
    "kernelspec": {
      "display_name": "python",
      "language": "python",
      "name": "python3"
    }
  },
  "nbformat": 4,
  "nbformat_minor": 4
}